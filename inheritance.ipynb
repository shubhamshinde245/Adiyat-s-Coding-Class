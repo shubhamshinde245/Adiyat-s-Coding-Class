{
 "cells": [
  {
   "cell_type": "code",
   "execution_count": null,
   "metadata": {},
   "outputs": [],
   "source": [
    "class myBird:\n",
    "    def __init__(self):\n",
    "        print(\"Constructor in myBird class\")\n",
    "    \n",
    "    def whatTpye(self):\n",
    "        print(\"I'm a bird\")\n",
    "    \n",
    "    def canSwim(self):\n",
    "        print(\"I can swim\")"
   ]
  },
  {
   "cell_type": "code",
   "execution_count": null,
   "metadata": {},
   "outputs": [],
   "source": [
    "# child class is myPenguin and we are inheriting myBird class which is a parent class\n",
    "class myPenguin(myBird):\n",
    "    \n",
    "    def __init__(self):\n",
    "        # call super function\n",
    "        super().__init__()\n",
    "        print(\"Constructor in myPenguin class\")\n",
    "\n",
    "    def whoIsThis(self):\n",
    "        print(\"It's a Penguin\")\n",
    "     \n",
    "    def canRun(self):\n",
    "        print(\"I can run\")"
   ]
  },
  {
   "cell_type": "code",
   "execution_count": null,
   "metadata": {},
   "outputs": [],
   "source": [
    "object1 = myPenguin()\n",
    "object1.whoIsThis()\n",
    "object1.canRun()\n",
    "object1.whatTpye()"
   ]
  }
 ],
 "metadata": {
  "kernelspec": {
   "display_name": "Python 3",
   "language": "python",
   "name": "python3"
  },
  "language_info": {
   "codemirror_mode": {
    "name": "ipython",
    "version": 3
   },
   "file_extension": ".py",
   "mimetype": "text/x-python",
   "name": "python",
   "nbconvert_exporter": "python",
   "pygments_lexer": "ipython3",
   "version": "3.10.12"
  }
 },
 "nbformat": 4,
 "nbformat_minor": 2
}
