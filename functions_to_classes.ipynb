{
 "cells": [
  {
   "cell_type": "markdown",
   "metadata": {},
   "source": [
    "#### Function"
   ]
  },
  {
   "cell_type": "code",
   "execution_count": null,
   "metadata": {},
   "outputs": [],
   "source": [
    "def addition(x,y):\n",
    "    print(\"Addition :\",x+y)\n",
    "\n",
    "def substraction(x,y):\n",
    "    print(\"Substraction :\",x-y)"
   ]
  },
  {
   "cell_type": "code",
   "execution_count": null,
   "metadata": {},
   "outputs": [],
   "source": [
    "substraction(20,10)"
   ]
  },
  {
   "cell_type": "code",
   "execution_count": null,
   "metadata": {},
   "outputs": [],
   "source": [
    "addition(20,10)"
   ]
  },
  {
   "cell_type": "markdown",
   "metadata": {},
   "source": [
    "#### Classes"
   ]
  },
  {
   "cell_type": "markdown",
   "metadata": {},
   "source": [
    "5 students \n",
    "\n",
    "Name, Email and City\n",
    "\n",
    "o1,o2,o3,o4,o5\n",
    "\n",
    "function_sum(), average()"
   ]
  },
  {
   "cell_type": "code",
   "execution_count": null,
   "metadata": {},
   "outputs": [],
   "source": [
    "class University:\n",
    "\n",
    "    # Self is the inference of the object \n",
    "    # It's reference\n",
    "    def __init__(self, name, email, city):\n",
    "        # This is a constructor , it runs at the start of every class\n",
    "        print(\" Inside constructor\")\n",
    "        self.name = name \n",
    "        self.email = email\n",
    "        self.city = city\n",
    "    \n",
    "    def displayInfo(self):\n",
    "        print(\"Hi, my name is {} ! This is my email {}\".format(self.name, self.email))\n",
    "    \n",
    "    def address(self):\n",
    "        print(\"This is my address\", self.city)"
   ]
  },
  {
   "cell_type": "code",
   "execution_count": null,
   "metadata": {},
   "outputs": [],
   "source": [
    "object1 = University('Adiyat', 'adiyat@gmail.com','Saratoga')\n",
    "object1.displayInfo()\n",
    "object1.address()"
   ]
  },
  {
   "cell_type": "code",
   "execution_count": null,
   "metadata": {},
   "outputs": [],
   "source": [
    "object2 = University('Shubham','shubham@gmail.com', 'Santa Clara')\n",
    "object2.displayInfo()\n",
    "object2.address()"
   ]
  },
  {
   "cell_type": "markdown",
   "metadata": {},
   "source": [
    "### Classes using math"
   ]
  },
  {
   "cell_type": "markdown",
   "metadata": {},
   "source": [
    "Why Self ?\n",
    "\n",
    "1. It reduces our variables which needs to be passed to the class\n",
    "2. You can create multiple objects for the same class which will allow you to use multiple values"
   ]
  },
  {
   "cell_type": "code",
   "execution_count": null,
   "metadata": {},
   "outputs": [],
   "source": [
    "# def function1(z,y,z,a,b,c,r,h)  def function1(self)    \n",
    "# def function2(z,y,z,a,b,c,r,h)  def function2(self)    \n",
    "# def function3(z,y,z,a,b,c,r,h)  def function3(self)    "
   ]
  },
  {
   "cell_type": "code",
   "execution_count": null,
   "metadata": {},
   "outputs": [],
   "source": [
    "# parent class\n",
    "class Basic_Operations:\n",
    "\n",
    "    # self is denoting the inference of the object\n",
    "    def __init__(self, x ,y ,z):\n",
    "        print(\"Inside constructor of Basic_Operations \")\n",
    "        self.x = x \n",
    "        self.y  = y\n",
    "        self.z = z\n",
    "    \n",
    "    def addition_class(self):\n",
    "        print(\"Addition :\",self.x+self.y + self.z)\n",
    "\n",
    "    def substraction_class(self):\n",
    "        print(\"Substraction :\",self.x - self.y - self.z)        "
   ]
  },
  {
   "cell_type": "code",
   "execution_count": null,
   "metadata": {},
   "outputs": [],
   "source": [
    "object2 = Basic_Operations(4,5,6)\n",
    "object2.addition_class()\n",
    "object2.substraction_class()"
   ]
  },
  {
   "cell_type": "markdown",
   "metadata": {},
   "source": [
    "### Inheritance "
   ]
  },
  {
   "cell_type": "code",
   "execution_count": null,
   "metadata": {},
   "outputs": [],
   "source": [
    "# child class \n",
    "class Advanced_Operations(Basic_Operations):\n",
    "\n",
    "    # self is denoting the inference of the object\n",
    "    def __init__(self, x ,y ,z):\n",
    "        print(\"Inside constructor of Advanced_Operations \")\n",
    "        \n",
    "        # call super function and pass the arguments\n",
    "        super().__init__(x, y, z)\n",
    "\n",
    "        self.x = x \n",
    "        self.y  = y\n",
    "        self.z = z\n",
    "    \n",
    "    def multiply_class(self):\n",
    "        print(\"Substraction :\",self.x * self.y * self.z)     "
   ]
  },
  {
   "cell_type": "code",
   "execution_count": null,
   "metadata": {},
   "outputs": [],
   "source": [
    "object3 = Advanced_Operations(4,5,6)\n",
    "object3.multiply_class() # from child class\n",
    "object3.addition_class() # from parent class"
   ]
  }
 ],
 "metadata": {
  "kernelspec": {
   "display_name": "Python 3",
   "language": "python",
   "name": "python3"
  },
  "language_info": {
   "codemirror_mode": {
    "name": "ipython",
    "version": 3
   },
   "file_extension": ".py",
   "mimetype": "text/x-python",
   "name": "python",
   "nbconvert_exporter": "python",
   "pygments_lexer": "ipython3",
   "version": "3.10.12"
  }
 },
 "nbformat": 4,
 "nbformat_minor": 2
}
