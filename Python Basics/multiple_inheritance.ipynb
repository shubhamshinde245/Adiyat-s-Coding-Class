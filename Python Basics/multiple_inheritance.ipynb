{
 "cells": [
  {
   "cell_type": "code",
   "execution_count": 8,
   "metadata": {},
   "outputs": [],
   "source": [
    "class Base1:\n",
    "    def func_base1(self):\n",
    "        print(\"In base 1\")\n",
    "\n",
    "class Base2:\n",
    "    def func_base2(self):\n",
    "        print(\"In base 2\")\n",
    "\n",
    "class Base3:\n",
    "    def func_base3(self):\n",
    "        print(\"In base 3\")"
   ]
  },
  {
   "cell_type": "code",
   "execution_count": 9,
   "metadata": {},
   "outputs": [],
   "source": [
    "class mult(Base1, Base2, Base3):\n",
    "    def func_multi():\n",
    "        print(\"In multidirived class\")"
   ]
  },
  {
   "cell_type": "code",
   "execution_count": 10,
   "metadata": {},
   "outputs": [
    {
     "name": "stdout",
     "output_type": "stream",
     "text": [
      "In base 1\n",
      "In base 2\n",
      "In base 3\n"
     ]
    }
   ],
   "source": [
    "multi = mult()\n",
    "multi.func_base1()\n",
    "multi.func_base2()\n",
    "multi.func_base3()"
   ]
  },
  {
   "cell_type": "code",
   "execution_count": null,
   "metadata": {},
   "outputs": [],
   "source": []
  }
 ],
 "metadata": {
  "kernelspec": {
   "display_name": "Python 3",
   "language": "python",
   "name": "python3"
  },
  "language_info": {
   "codemirror_mode": {
    "name": "ipython",
    "version": 3
   },
   "file_extension": ".py",
   "mimetype": "text/x-python",
   "name": "python",
   "nbconvert_exporter": "python",
   "pygments_lexer": "ipython3",
   "version": "3.10.12"
  }
 },
 "nbformat": 4,
 "nbformat_minor": 2
}
