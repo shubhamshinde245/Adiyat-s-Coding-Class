{
 "cells": [
  {
   "cell_type": "markdown",
   "metadata": {},
   "source": [
    "## Functions"
   ]
  },
  {
   "cell_type": "code",
   "execution_count": 1,
   "metadata": {},
   "outputs": [
    {
     "name": "stdout",
     "output_type": "stream",
     "text": [
      "Hi, welcome to the class\n"
     ]
    }
   ],
   "source": [
    "def greet():\n",
    "    print(\"Hi, welcome to the class\")\n",
    "\n",
    "greet()"
   ]
  },
  {
   "cell_type": "code",
   "execution_count": 3,
   "metadata": {},
   "outputs": [
    {
     "name": "stdout",
     "output_type": "stream",
     "text": [
      "Hi, welcome to the class Adiyat\n"
     ]
    }
   ],
   "source": [
    "def greet(name):\n",
    "    print(\"Hi, welcome to the class\",name)\n",
    "\n",
    "greet(\"Adiyat\")"
   ]
  },
  {
   "cell_type": "code",
   "execution_count": 6,
   "metadata": {},
   "outputs": [
    {
     "data": {
      "text/plain": [
       "15"
      ]
     },
     "execution_count": 6,
     "metadata": {},
     "output_type": "execute_result"
    }
   ],
   "source": [
    "def addition(x,y):\n",
    "    sum1 = x + y\n",
    "    return sum1\n",
    "\n",
    "addition(5,10)"
   ]
  },
  {
   "cell_type": "code",
   "execution_count": 8,
   "metadata": {},
   "outputs": [
    {
     "name": "stdout",
     "output_type": "stream",
     "text": [
      "-10\n"
     ]
    }
   ],
   "source": [
    "def check_num(num):\n",
    "    if num < 0:\n",
    "        print(num)\n",
    "    else:\n",
    "        pass\n",
    "\n",
    "check_num(-10)"
   ]
  },
  {
   "cell_type": "code",
   "execution_count": 11,
   "metadata": {},
   "outputs": [
    {
     "data": {
      "text/plain": [
       "10"
      ]
     },
     "execution_count": 11,
     "metadata": {},
     "output_type": "execute_result"
    }
   ],
   "source": [
    "def add_numbers(a = 10, b = 20):\n",
    "    # new value of a is 5\n",
    "    # there is no value of b so consider b=20\n",
    "    sum2 = a+b\n",
    "    return sum2\n",
    "\n",
    "add_numbers(5,5)"
   ]
  },
  {
   "cell_type": "code",
   "execution_count": 12,
   "metadata": {},
   "outputs": [
    {
     "data": {
      "text/plain": [
       "25"
      ]
     },
     "execution_count": 12,
     "metadata": {},
     "output_type": "execute_result"
    }
   ],
   "source": [
    "add_numbers(5)"
   ]
  },
  {
   "cell_type": "code",
   "execution_count": 13,
   "metadata": {},
   "outputs": [
    {
     "data": {
      "text/plain": [
       "30"
      ]
     },
     "execution_count": 13,
     "metadata": {},
     "output_type": "execute_result"
    }
   ],
   "source": [
    "add_numbers()"
   ]
  },
  {
   "cell_type": "code",
   "execution_count": 1,
   "metadata": {},
   "outputs": [
    {
     "name": "stdout",
     "output_type": "stream",
     "text": [
      "First name : Miller Last name : John\n"
     ]
    }
   ],
   "source": [
    "def info(f_name, l_name):\n",
    "    # print('First name :', f_name)\n",
    "    # print('Last name :', l_name)\n",
    "    print('First name : {1} Last name : {0}'.format(f_name, l_name))\n",
    "\n",
    "info(\"John\", \"Miller\")"
   ]
  },
  {
   "cell_type": "code",
   "execution_count": 18,
   "metadata": {},
   "outputs": [
    {
     "name": "stdout",
     "output_type": "stream",
     "text": [
      "Product : 315\n"
     ]
    }
   ],
   "source": [
    "def find_product(*nums):\n",
    "    res = 1\n",
    "    \n",
    "    for num in nums:\n",
    "        res *= num\n",
    "    \n",
    "    print(\"Product :\",res)\n",
    "\n",
    "find_product(1,5,7,9,)"
   ]
  },
  {
   "cell_type": "code",
   "execution_count": 19,
   "metadata": {},
   "outputs": [
    {
     "name": "stdout",
     "output_type": "stream",
     "text": [
      "Product : 42\n"
     ]
    }
   ],
   "source": [
    "find_product(6,7)"
   ]
  },
  {
   "cell_type": "markdown",
   "metadata": {},
   "source": [
    "## Recursion "
   ]
  },
  {
   "cell_type": "code",
   "execution_count": 21,
   "metadata": {},
   "outputs": [
    {
     "name": "stdout",
     "output_type": "stream",
     "text": [
      "3 2\n",
      "2 1\n"
     ]
    },
    {
     "data": {
      "text/plain": [
       "6"
      ]
     },
     "execution_count": 21,
     "metadata": {},
     "output_type": "execute_result"
    }
   ],
   "source": [
    "def factorial(n):\n",
    "    if n == 1:\n",
    "        return n\n",
    "    else:\n",
    "        print (n, n-1)\n",
    "        return (n * factorial(n-1))\n",
    "\n",
    "factorial(3)"
   ]
  },
  {
   "cell_type": "code",
   "execution_count": 23,
   "metadata": {},
   "outputs": [
    {
     "data": {
      "text/plain": [
       "120"
      ]
     },
     "execution_count": 23,
     "metadata": {},
     "output_type": "execute_result"
    }
   ],
   "source": [
    "def fact(x):\n",
    "    if x == 1:\n",
    "        return x\n",
    "    else:\n",
    "        return x * fact(x-1)\n",
    "fact(5)"
   ]
  },
  {
   "cell_type": "markdown",
   "metadata": {},
   "source": [
    "## Lambda Functions"
   ]
  },
  {
   "cell_type": "code",
   "execution_count": 27,
   "metadata": {},
   "outputs": [
    {
     "name": "stdout",
     "output_type": "stream",
     "text": [
      "Hello World\n"
     ]
    }
   ],
   "source": [
    "greetings = lambda : print(\"Hello World\")\n",
    "greetings()"
   ]
  },
  {
   "cell_type": "code",
   "execution_count": 34,
   "metadata": {},
   "outputs": [
    {
     "name": "stdout",
     "output_type": "stream",
     "text": [
      "Hi, welcome to the class Adiyat\n"
     ]
    }
   ],
   "source": [
    "def greet(name): print(\"Hi, welcome to the class\",name)\n",
    "\n",
    "greet(\"Adiyat\")"
   ]
  },
  {
   "cell_type": "markdown",
   "metadata": {},
   "source": [
    "lambda arguments : expression"
   ]
  },
  {
   "cell_type": "code",
   "execution_count": 35,
   "metadata": {},
   "outputs": [
    {
     "name": "stdout",
     "output_type": "stream",
     "text": [
      "In lambda Sony\n"
     ]
    }
   ],
   "source": [
    "greet_user = lambda name1 : print(\"In lambda\", name1)\n",
    "greet_user('Sony')"
   ]
  },
  {
   "cell_type": "markdown",
   "metadata": {},
   "source": [
    "## Local Variables, Global Variables, Nonlocal Variables"
   ]
  },
  {
   "cell_type": "code",
   "execution_count": 43,
   "metadata": {},
   "outputs": [
    {
     "name": "stdout",
     "output_type": "stream",
     "text": [
      "Local Variable : Hello\n",
      "Global Variable : Hello\n"
     ]
    }
   ],
   "source": [
    "def local_global():\n",
    "    # local\n",
    "    message = 'Hello'\n",
    "\n",
    "    print(\"Local Variable :\",message)\n",
    "\n",
    "local_global()\n",
    "print(\"Global Variable :\",message)"
   ]
  },
  {
   "cell_type": "code",
   "execution_count": 44,
   "metadata": {},
   "outputs": [
    {
     "name": "stdout",
     "output_type": "stream",
     "text": [
      "Local Variable : Hello\n",
      "Global Variable : Hello\n"
     ]
    }
   ],
   "source": [
    "# globally\n",
    "message = 'Hello'\n",
    "\n",
    "def local_global():\n",
    "    print(\"Local Variable :\",message)\n",
    "\n",
    "local_global()\n",
    "print(\"Global Variable :\",message)"
   ]
  },
  {
   "cell_type": "markdown",
   "metadata": {},
   "source": [
    "## Nested Functions"
   ]
  },
  {
   "cell_type": "code",
   "execution_count": 47,
   "metadata": {},
   "outputs": [
    {
     "name": "stdout",
     "output_type": "stream",
     "text": [
      "Name before calling the function: San Jose\n",
      "Name after calling the function: San Fran\n",
      "Name after calling the function: San Jose\n",
      "Outside the function: San Fran\n"
     ]
    }
   ],
   "source": [
    "def outer():\n",
    "    name  = 'San Jose'\n",
    "\n",
    "    def inner():\n",
    "        global name\n",
    "        name = 'San Fran'\n",
    "        print(\"Name after calling the function:\", name)\n",
    "    \n",
    "    print(\"Name before calling the function:\", name)\n",
    "    inner()\n",
    "    print(\"Name after calling the function:\", name)\n",
    "\n",
    "outer()\n",
    "\n",
    "# san jose\n",
    "print(\"Outside the function:\", name)"
   ]
  }
 ],
 "metadata": {
  "kernelspec": {
   "display_name": "Python 3",
   "language": "python",
   "name": "python3"
  },
  "language_info": {
   "codemirror_mode": {
    "name": "ipython",
    "version": 3
   },
   "file_extension": ".py",
   "mimetype": "text/x-python",
   "name": "python",
   "nbconvert_exporter": "python",
   "pygments_lexer": "ipython3",
   "version": "3.10.12"
  }
 },
 "nbformat": 4,
 "nbformat_minor": 2
}
