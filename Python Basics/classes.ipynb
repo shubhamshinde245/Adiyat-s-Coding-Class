{
 "cells": [
  {
   "cell_type": "code",
   "execution_count": 1,
   "metadata": {},
   "outputs": [],
   "source": [
    "class University:\n",
    "\n",
    "    # Self is actually denoting the inference of the object.\n",
    "    # Also known as reference.\n",
    "\n",
    "    def __init__(self, name , email):\n",
    "        print(\"Constructor\")\n",
    "        self.name = name\n",
    "        self.email = email\n",
    "    \n",
    "    def displayInfo(self):\n",
    "        print(\"Hi my name is {} ! This is my email id {}\".format(self.name, self.email))\n"
   ]
  },
  {
   "cell_type": "code",
   "execution_count": 2,
   "metadata": {},
   "outputs": [
    {
     "name": "stdout",
     "output_type": "stream",
     "text": [
      "Constructor\n",
      "Hi my name is Shubham ! This is my email id sjshinde@scu.edu\n"
     ]
    }
   ],
   "source": [
    "object1 = University('Shubham', 'sjshinde@scu.edu')\n",
    "object1.displayInfo()"
   ]
  },
  {
   "cell_type": "code",
   "execution_count": 3,
   "metadata": {},
   "outputs": [
    {
     "name": "stdout",
     "output_type": "stream",
     "text": [
      "Constructor\n",
      "Hi my name is Adiyat ! This is my email id adiyat@gmail.com\n",
      "Adiyat adiyat@gmail.com Saratoga\n"
     ]
    }
   ],
   "source": [
    "object2 = University('Adiyat', 'adiyat@gmail.com')\n",
    "object2.city = 'Saratoga'\n",
    "object2.displayInfo()\n",
    "print(object2.name, object2.email, object2.city)"
   ]
  },
  {
   "cell_type": "code",
   "execution_count": 4,
   "metadata": {},
   "outputs": [
    {
     "ename": "NameError",
     "evalue": "name 'object1' is not defined",
     "output_type": "error",
     "traceback": [
      "\u001b[0;31m---------------------------------------------------------------------------\u001b[0m",
      "\u001b[0;31mNameError\u001b[0m                                 Traceback (most recent call last)",
      "Cell \u001b[0;32mIn[4], line 3\u001b[0m\n\u001b[1;32m      1\u001b[0m \u001b[38;5;28;01mdel\u001b[39;00m object1\u001b[38;5;241m.\u001b[39memail\n\u001b[1;32m      2\u001b[0m \u001b[38;5;28;01mdel\u001b[39;00m object1\n\u001b[0;32m----> 3\u001b[0m \u001b[43mobject1\u001b[49m\u001b[38;5;241m.\u001b[39mdisplayInfo()\n",
      "\u001b[0;31mNameError\u001b[0m: name 'object1' is not defined"
     ]
    }
   ],
   "source": [
    "del object1\n",
    "object1.displayInfo()"
   ]
  }
 ],
 "metadata": {
  "kernelspec": {
   "display_name": "Python 3",
   "language": "python",
   "name": "python3"
  },
  "language_info": {
   "codemirror_mode": {
    "name": "ipython",
    "version": 3
   },
   "file_extension": ".py",
   "mimetype": "text/x-python",
   "name": "python",
   "nbconvert_exporter": "python",
   "pygments_lexer": "ipython3",
   "version": "3.10.12"
  }
 },
 "nbformat": 4,
 "nbformat_minor": 2
}
