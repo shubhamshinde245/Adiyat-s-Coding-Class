{
 "cells": [
  {
   "cell_type": "markdown",
   "metadata": {},
   "source": [
    "### Operators"
   ]
  },
  {
   "cell_type": "code",
   "execution_count": 9,
   "metadata": {},
   "outputs": [
    {
     "name": "stdout",
     "output_type": "stream",
     "text": [
      "2.5\n",
      "2\n",
      "1\n"
     ]
    }
   ],
   "source": [
    "print(5/2)\n",
    "\n",
    "# floor / quotient\n",
    "print(5//2) \n",
    "print(6//5)"
   ]
  },
  {
   "cell_type": "code",
   "execution_count": 10,
   "metadata": {},
   "outputs": [
    {
     "name": "stdout",
     "output_type": "stream",
     "text": [
      "10\n",
      "25\n"
     ]
    }
   ],
   "source": [
    "print(5*2)\n",
    "print(5**2) # 5^2"
   ]
  },
  {
   "cell_type": "code",
   "execution_count": 11,
   "metadata": {},
   "outputs": [
    {
     "name": "stdout",
     "output_type": "stream",
     "text": [
      "0\n",
      "1\n"
     ]
    }
   ],
   "source": [
    "a = 1\n",
    "b = 0\n",
    "\n",
    "print(a and b) # a * b\n",
    "print(a or b) # a + b"
   ]
  },
  {
   "cell_type": "code",
   "execution_count": 12,
   "metadata": {},
   "outputs": [
    {
     "name": "stdout",
     "output_type": "stream",
     "text": [
      "Rem : 1\n",
      "Quo : 3\n"
     ]
    }
   ],
   "source": [
    "print('Rem :',7%2)\n",
    "print('Quo :',7//2) # 6/2"
   ]
  },
  {
   "cell_type": "markdown",
   "metadata": {},
   "source": [
    "#### AND Checks for both conditions"
   ]
  },
  {
   "cell_type": "markdown",
   "metadata": {},
   "source": [
    "AND Table\n",
    "If it's only 0 and 1\n",
    "\n",
    "0 = False\n",
    "1 = True \n",
    "\n",
    "Test Case A and B\n",
    "Output = Y \n",
    "\n",
    "A B   C = A * B\n",
    "0 1   0\n",
    "1 0   0\n",
    "0 0   0 \n",
    "1 1   1\n",
    "\n",
    "Eg:\n",
    "i = 6\n",
    "\n",
    "A     B     Y\n",
    "i>0  i%3    Result\n",
    "1     1     1"
   ]
  },
  {
   "cell_type": "code",
   "execution_count": 25,
   "metadata": {},
   "outputs": [
    {
     "name": "stdout",
     "output_type": "stream",
     "text": [
      "6\n"
     ]
    }
   ],
   "source": [
    "l = [-2,-5,0,4,6,14,8]\n",
    "for i in l:\n",
    "    # 1st case should be True and 2nd case should also be True\n",
    "    #   A       B\n",
    "    if i>0 and i%3 ==0:\n",
    "        print(i)"
   ]
  },
  {
   "cell_type": "code",
   "execution_count": 28,
   "metadata": {},
   "outputs": [
    {
     "data": {
      "text/plain": [
       "['Hello', 'World']"
      ]
     },
     "execution_count": 28,
     "metadata": {},
     "output_type": "execute_result"
    }
   ],
   "source": [
    "s = 'Hello World'\n",
    "s_s = s.split()\n",
    "s_s"
   ]
  },
  {
   "cell_type": "code",
   "execution_count": 29,
   "metadata": {},
   "outputs": [
    {
     "data": {
      "text/plain": [
       "['123456789', 'aa12as', 'dfghaa']"
      ]
     },
     "execution_count": 29,
     "metadata": {},
     "output_type": "execute_result"
    }
   ],
   "source": [
    "s1 = '1234567890aa12as0dfghaa'\n",
    "s1_s = s1.split('0')\n",
    "s1_s"
   ]
  },
  {
   "cell_type": "markdown",
   "metadata": {},
   "source": [
    "### List comprehension"
   ]
  },
  {
   "cell_type": "code",
   "execution_count": 39,
   "metadata": {},
   "outputs": [
    {
     "name": "stdout",
     "output_type": "stream",
     "text": [
      "['A', 'd', 'i', 'y', 'a', 't']\n"
     ]
    }
   ],
   "source": [
    "s2 = 'Adiyat'\n",
    "l_s3 = []\n",
    "\n",
    "for char in s2:\n",
    "    l_s3.append(char)\n",
    "\n",
    "print(l_s3)"
   ]
  },
  {
   "cell_type": "code",
   "execution_count": 44,
   "metadata": {},
   "outputs": [
    {
     "name": "stdout",
     "output_type": "stream",
     "text": [
      "['Santa Clara, San Jose, SF']\n"
     ]
    }
   ],
   "source": [
    "list_a = [\"Santa Clara, San Jose, SF\"]\n",
    "newlist = []\n",
    "\n",
    "for i in list_a:\n",
    "    newlist.append(i)\n",
    "\n",
    "print(newlist)"
   ]
  },
  {
   "cell_type": "code",
   "execution_count": 49,
   "metadata": {},
   "outputs": [
    {
     "name": "stdout",
     "output_type": "stream",
     "text": [
      "123\n",
      "156\n",
      "178\n",
      "134\n",
      "682\n",
      "239\n",
      "187\n"
     ]
    }
   ],
   "source": [
    "l = [23,56,78,34,677,234,87]\n",
    "\n",
    "for i in l:\n",
    "    if i > 100:\n",
    "        print(i+5)\n",
    "    else:\n",
    "        print(i+100)"
   ]
  },
  {
   "cell_type": "markdown",
   "metadata": {},
   "source": [
    "#### List Comprehension Examples"
   ]
  },
  {
   "cell_type": "code",
   "execution_count": 40,
   "metadata": {},
   "outputs": [
    {
     "data": {
      "text/plain": [
       "['A', 'd', 'i', 'y', 'a', 't']"
      ]
     },
     "execution_count": 40,
     "metadata": {},
     "output_type": "execute_result"
    }
   ],
   "source": [
    "s2 = 'Adiyat'\n",
    "l_s2 = [i for i in s2]\n",
    "l_s2"
   ]
  },
  {
   "cell_type": "code",
   "execution_count": 51,
   "metadata": {},
   "outputs": [
    {
     "name": "stdout",
     "output_type": "stream",
     "text": [
      "123\n",
      "156\n",
      "178\n",
      "134\n",
      "682\n",
      "239\n",
      "187\n"
     ]
    }
   ],
   "source": [
    "new_l = [print(i+5) if i > 100 else print(i+100) for i in l]"
   ]
  },
  {
   "cell_type": "markdown",
   "metadata": {},
   "source": [
    "#### OR Checks only for 1 condition"
   ]
  },
  {
   "cell_type": "code",
   "execution_count": 14,
   "metadata": {},
   "outputs": [
    {
     "name": "stdout",
     "output_type": "stream",
     "text": [
      "0\n",
      "4\n",
      "6\n",
      "4\n",
      "8\n"
     ]
    }
   ],
   "source": [
    "for i in l:\n",
    "    # 1st case should be True or 2nd case should also be True\n",
    "    if i>0 or i%3 ==0:\n",
    "        print(i)"
   ]
  },
  {
   "cell_type": "code",
   "execution_count": 24,
   "metadata": {},
   "outputs": [
    {
     "name": "stdout",
     "output_type": "stream",
     "text": [
      "True\n",
      "1\n"
     ]
    }
   ],
   "source": [
    "print(True)\n",
    "print(int(True))"
   ]
  },
  {
   "cell_type": "code",
   "execution_count": 23,
   "metadata": {},
   "outputs": [
    {
     "name": "stdout",
     "output_type": "stream",
     "text": [
      "0\n"
     ]
    }
   ],
   "source": [
    "print(int(False))"
   ]
  }
 ],
 "metadata": {
  "kernelspec": {
   "display_name": "Python 3",
   "language": "python",
   "name": "python3"
  },
  "language_info": {
   "codemirror_mode": {
    "name": "ipython",
    "version": 3
   },
   "file_extension": ".py",
   "mimetype": "text/x-python",
   "name": "python",
   "nbconvert_exporter": "python",
   "pygments_lexer": "ipython3",
   "version": "3.10.12"
  }
 },
 "nbformat": 4,
 "nbformat_minor": 2
}
