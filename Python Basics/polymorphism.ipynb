{
 "cells": [
  {
   "cell_type": "code",
   "execution_count": 21,
   "metadata": {},
   "outputs": [],
   "source": [
    "class Dog:\n",
    "    def __init__(self) -> None:\n",
    "        print(\"In constructor of Dog class\")\n",
    "    \n",
    "    def action():\n",
    "        print(\"I can swim\")"
   ]
  },
  {
   "cell_type": "code",
   "execution_count": 22,
   "metadata": {},
   "outputs": [],
   "source": [
    "class Cat:\n",
    "    def __init__(self) -> None:\n",
    "        print(\"In constructor of Cat class\")\n",
    "    \n",
    "    def action():\n",
    "        print(\"I can climb trees\")"
   ]
  },
  {
   "cell_type": "code",
   "execution_count": 23,
   "metadata": {},
   "outputs": [],
   "source": [
    "def test(animal):\n",
    "    animal.action()\n",
    "    # Dog.action()\n",
    "    # Cat.action()"
   ]
  },
  {
   "cell_type": "code",
   "execution_count": 25,
   "metadata": {},
   "outputs": [
    {
     "name": "stdout",
     "output_type": "stream",
     "text": [
      "I can climb trees\n",
      "I can swim\n"
     ]
    }
   ],
   "source": [
    "myCat = Cat\n",
    "myDog = Dog\n",
    "\n",
    "test(myCat)\n",
    "test(myDog)"
   ]
  }
 ],
 "metadata": {
  "kernelspec": {
   "display_name": "Python 3",
   "language": "python",
   "name": "python3"
  },
  "language_info": {
   "codemirror_mode": {
    "name": "ipython",
    "version": 3
   },
   "file_extension": ".py",
   "mimetype": "text/x-python",
   "name": "python",
   "nbconvert_exporter": "python",
   "pygments_lexer": "ipython3",
   "version": "3.10.12"
  }
 },
 "nbformat": 4,
 "nbformat_minor": 2
}
